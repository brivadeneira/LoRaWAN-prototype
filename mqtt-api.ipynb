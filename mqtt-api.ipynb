{
 "cells": [
  {
   "cell_type": "code",
   "execution_count": 1,
   "metadata": {},
   "outputs": [],
   "source": [
    "import eventlet\n",
    "import json\n",
    "from flask import Flask, jsonify, render_template\n",
    "from flask_mqtt import Mqtt\n",
    "from flask_socketio import SocketIO\n",
    "from flask_bootstrap import Bootstrap"
   ]
  },
  {
   "cell_type": "code",
   "execution_count": 2,
   "metadata": {},
   "outputs": [],
   "source": [
    "broker_url = 'eu.thethings.network'\n",
    "port = 1883\n",
    "app_id = 'simulacion-mqtt-api'\n",
    "app_key = 'ttn-account-v2.ruY7qlbxfqd9SVIOyDY2uRk4eou4sFcPpcx2A1__KXo'\n",
    "topic = '+/devices/+/up'"
   ]
  },
  {
   "cell_type": "code",
   "execution_count": null,
   "metadata": {},
   "outputs": [
    {
     "name": "stderr",
     "output_type": "stream",
     "text": [
      "[2019-11-25 10:05:28,586] DEBUG in __init__: Connected client '' to broker eu.thethings.network:1883\n",
      "[2019-11-25 10:05:28,613] DEBUG in __init__: Subscribed to topic: +/devices/+/up, qos: 0\n",
      "(4911) wsgi starting up on http://0.0.0.0:5000\n",
      "(4911) accepted ('127.0.0.1', 51782)\n",
      "127.0.0.1 - - [25/Nov/2019 10:05:53] \"GET /api/mqtt/1 HTTP/1.1\" 200 134 0.001233\n"
     ]
    },
    {
     "name": "stdout",
     "output_type": "stream",
     "text": [
      "{'topic': 'simulacion-mqtt-api/devices/sim-mbed/up', 'payload': '{\"app_id\":\"simulacion-mqtt-api\",\"dev_id\":\"sim-mbed\",\"hardware_serial\":\"00A597A8DAA849D8\",\"port\":15,\"counter\":3,\"payload_raw\":\"VGVtcGVyYXR1cmUgPSAzNC41\",\"metadata\":{\"time\":\"2019-11-25T13:05:56.524249761Z\",\"frequency\":868.1,\"modulation\":\"LORA\",\"data_rate\":\"SF7BW125\",\"airtime\":82176000,\"coding_rate\":\"4/6\",\"gateways\":[{\"gtw_id\":\"eui-0242ee000084ee70\",\"timestamp\":1965931000,\"time\":\"2019-11-25T13:05:56.517Z\",\"channel\":2,\"rssi\":-35,\"snr\":5,\"rf_chain\":0}]}}'}\n",
      "{'topic': 'simulacion-mqtt-api/devices/sim-mbed-2/up', 'payload': '{\"app_id\":\"simulacion-mqtt-api\",\"dev_id\":\"sim-mbed-2\",\"hardware_serial\":\"00BF4C7498830E37\",\"port\":15,\"counter\":4,\"payload_raw\":\"VGVtcGVyYXR1cmUgPSAyOS40\",\"metadata\":{\"time\":\"2019-11-25T13:05:59.245124738Z\",\"frequency\":868.5,\"modulation\":\"LORA\",\"data_rate\":\"SF7BW125\",\"airtime\":82176000,\"coding_rate\":\"4/6\",\"gateways\":[{\"gtw_id\":\"eui-0242ee000084ee70\",\"timestamp\":1968652000,\"time\":\"2019-11-25T13:05:59.238Z\",\"channel\":2,\"rssi\":-35,\"snr\":5,\"rf_chain\":0}]}}'}\n"
     ]
    },
    {
     "name": "stderr",
     "output_type": "stream",
     "text": [
      "127.0.0.1 - - [25/Nov/2019 10:06:05] \"GET /api/mqtt/1 HTTP/1.1\" 200 1782 0.001568\n",
      "(4911) accepted ('127.0.0.1', 51814)\n",
      "127.0.0.1 - - [25/Nov/2019 10:06:29] \"GET /api/mqtt/1 HTTP/1.1\" 200 1782 0.000996\n",
      "(4911) accepted ('127.0.0.1', 51826)\n",
      "127.0.0.1 - - [25/Nov/2019 10:06:39] \"GET /api/mqtt/1 HTTP/1.1\" 200 1782 0.001612\n",
      "(4911) accepted ('127.0.0.1', 51828)\n",
      "127.0.0.1 - - [25/Nov/2019 10:06:40] \"GET /api/mqtt/1 HTTP/1.1\" 200 1782 0.001272\n",
      "(4911) accepted ('127.0.0.1', 51838)\n",
      "127.0.0.1 - - [25/Nov/2019 10:06:41] \"GET /api/mqtt/1 HTTP/1.1\" 200 1782 0.002017\n",
      "(4911) accepted ('127.0.0.1', 51864)\n",
      "127.0.0.1 - - [25/Nov/2019 10:06:47] \"GET /api/mqtt/1 HTTP/1.1\" 200 1782 0.001729\n",
      "(4911) accepted ('127.0.0.1', 51872)\n",
      "127.0.0.1 - - [25/Nov/2019 10:06:54] \"GET /api/mqtt/1 HTTP/1.1\" 200 1782 0.000956\n",
      "(4911) accepted ('127.0.0.1', 52000)\n",
      "127.0.0.1 - - [25/Nov/2019 10:10:40] \"GET /api/mqtt/1 HTTP/1.1\" 200 1782 0.001335\n",
      "(4911) accepted ('127.0.0.1', 52006)\n",
      "127.0.0.1 - - [25/Nov/2019 10:10:42] \"GET /api/mqtt/1 HTTP/1.1\" 200 1782 0.002203\n"
     ]
    },
    {
     "name": "stdout",
     "output_type": "stream",
     "text": [
      "{'topic': 'simulacion-mqtt-api/devices/sim-mbed-2/up', 'payload': '{\"app_id\":\"simulacion-mqtt-api\",\"dev_id\":\"sim-mbed-2\",\"hardware_serial\":\"00BF4C7498830E37\",\"port\":15,\"counter\":5,\"payload_raw\":\"VGVtcGVyYXR1cmUgPSAyOS40\",\"metadata\":{\"time\":\"2019-11-25T13:10:46.668236321Z\",\"frequency\":868.3,\"modulation\":\"LORA\",\"data_rate\":\"SF7BW125\",\"airtime\":82176000,\"coding_rate\":\"4/6\",\"gateways\":[{\"gtw_id\":\"eui-0242ee000084ee70\",\"timestamp\":2256078000,\"time\":\"2019-11-25T13:10:46.664Z\",\"channel\":2,\"rssi\":-35,\"snr\":5,\"rf_chain\":0}]}}'}\n",
      "{'topic': 'simulacion-mqtt-api/devices/sim-mbed/up', 'payload': '{\"app_id\":\"simulacion-mqtt-api\",\"dev_id\":\"sim-mbed\",\"hardware_serial\":\"00A597A8DAA849D8\",\"port\":15,\"counter\":4,\"payload_raw\":\"VGVtcGVyYXR1cmUgPSAyOC40\",\"metadata\":{\"time\":\"2019-11-25T13:10:49.990739678Z\",\"frequency\":868.3,\"modulation\":\"LORA\",\"data_rate\":\"SF7BW125\",\"airtime\":82176000,\"coding_rate\":\"4/6\",\"gateways\":[{\"gtw_id\":\"eui-0242ee000084ee70\",\"timestamp\":2259399000,\"time\":\"2019-11-25T13:10:49.985Z\",\"channel\":2,\"rssi\":-35,\"snr\":5,\"rf_chain\":0}]}}'}\n",
      "{'topic': 'simulacion-mqtt-api/devices/sim-mbed-2/up', 'payload': '{\"app_id\":\"simulacion-mqtt-api\",\"dev_id\":\"sim-mbed-2\",\"hardware_serial\":\"00BF4C7498830E37\",\"port\":15,\"counter\":6,\"payload_raw\":\"VGVtcGVyYXR1cmUgPSAyMi4y\",\"metadata\":{\"time\":\"2019-11-25T13:10:56.801306702Z\",\"frequency\":868.5,\"modulation\":\"LORA\",\"data_rate\":\"SF7BW125\",\"airtime\":82176000,\"coding_rate\":\"4/6\",\"gateways\":[{\"gtw_id\":\"eui-0242ee000084ee70\",\"timestamp\":2266211000,\"time\":\"2019-11-25T13:10:56.797Z\",\"channel\":2,\"rssi\":-35,\"snr\":5,\"rf_chain\":0}]}}'}\n",
      "{'topic': 'simulacion-mqtt-api/devices/sim-mbed/up', 'payload': '{\"app_id\":\"simulacion-mqtt-api\",\"dev_id\":\"sim-mbed\",\"hardware_serial\":\"00A597A8DAA849D8\",\"port\":15,\"counter\":5,\"payload_raw\":\"VGVtcGVyYXR1cmUgPSAzNS41\",\"metadata\":{\"time\":\"2019-11-25T13:10:57.303816013Z\",\"frequency\":868.5,\"modulation\":\"LORA\",\"data_rate\":\"SF7BW125\",\"airtime\":82176000,\"coding_rate\":\"4/6\",\"gateways\":[{\"gtw_id\":\"eui-0242ee000084ee70\",\"timestamp\":2266710000,\"time\":\"2019-11-25T13:10:57.296Z\",\"channel\":2,\"rssi\":-35,\"snr\":5,\"rf_chain\":0}]}}'}\n",
      "{'topic': 'simulacion-mqtt-api/devices/sim-mbed-2/up', 'payload': '{\"app_id\":\"simulacion-mqtt-api\",\"dev_id\":\"sim-mbed-2\",\"hardware_serial\":\"00BF4C7498830E37\",\"port\":15,\"counter\":7,\"payload_raw\":\"VGVtcGVyYXR1cmUgPSAzMS45\",\"metadata\":{\"time\":\"2019-11-25T13:11:03.979612036Z\",\"frequency\":868.5,\"modulation\":\"LORA\",\"data_rate\":\"SF7BW125\",\"airtime\":82176000,\"coding_rate\":\"4/6\",\"gateways\":[{\"gtw_id\":\"eui-0242ee000084ee70\",\"timestamp\":2273389000,\"time\":\"2019-11-25T13:11:03.975Z\",\"channel\":2,\"rssi\":-35,\"snr\":5,\"rf_chain\":0}]}}'}\n"
     ]
    },
    {
     "name": "stderr",
     "output_type": "stream",
     "text": [
      "(4911) accepted ('127.0.0.1', 52030)\n",
      "127.0.0.1 - - [25/Nov/2019 10:11:07] \"GET /api/mqtt/1 HTTP/1.1\" 200 5899 0.002515\n",
      "(4911) accepted ('127.0.0.1', 52036)\n",
      "127.0.0.1 - - [25/Nov/2019 10:11:09] \"GET /api/mqtt/1 HTTP/1.1\" 200 5899 0.002907\n",
      "(4911) accepted ('127.0.0.1', 52066)\n",
      "127.0.0.1 - - [25/Nov/2019 10:11:39] \"GET /api/mqtt/1 HTTP/1.1\" 200 5899 0.003117\n"
     ]
    },
    {
     "name": "stdout",
     "output_type": "stream",
     "text": [
      "{'topic': 'simulacion-mqtt-api/devices/sim-mbed-2/up', 'payload': '{\"app_id\":\"simulacion-mqtt-api\",\"dev_id\":\"sim-mbed-2\",\"hardware_serial\":\"00BF4C7498830E37\",\"port\":15,\"counter\":8,\"payload_raw\":\"VGVtcGVyYXR1cmUgPSAzMS45\",\"metadata\":{\"time\":\"2019-11-25T13:11:56.416336893Z\",\"frequency\":868.5,\"modulation\":\"LORA\",\"data_rate\":\"SF7BW125\",\"airtime\":82176000,\"coding_rate\":\"4/6\",\"gateways\":[{\"gtw_id\":\"eui-0242ee000084ee70\",\"timestamp\":2325825000,\"time\":\"2019-11-25T13:11:56.411Z\",\"channel\":2,\"rssi\":-35,\"snr\":5,\"rf_chain\":0}]}}'}\n",
      "{'topic': 'simulacion-mqtt-api/devices/sim-mbed/up', 'payload': '{\"app_id\":\"simulacion-mqtt-api\",\"dev_id\":\"sim-mbed\",\"hardware_serial\":\"00A597A8DAA849D8\",\"port\":15,\"counter\":6,\"payload_raw\":\"VGVtcGVyYXR1cmUgPSAzNS41\",\"metadata\":{\"time\":\"2019-11-25T13:11:58.4394734Z\",\"frequency\":868.3,\"modulation\":\"LORA\",\"data_rate\":\"SF7BW125\",\"airtime\":82176000,\"coding_rate\":\"4/6\",\"gateways\":[{\"gtw_id\":\"eui-0242ee000084ee70\",\"timestamp\":2327849000,\"time\":\"2019-11-25T13:11:58.435Z\",\"channel\":2,\"rssi\":-35,\"snr\":5,\"rf_chain\":0}]}}'}\n"
     ]
    },
    {
     "name": "stderr",
     "output_type": "stream",
     "text": [
      "(4911) accepted ('127.0.0.1', 52106)\n",
      "127.0.0.1 - - [25/Nov/2019 10:12:21] \"GET /api/mqtt/1 HTTP/1.1\" 200 7543 0.001812\n",
      "(4911) accepted ('127.0.0.1', 52118)\n",
      "127.0.0.1 - - [25/Nov/2019 10:12:32] \"GET /api/mqtt/1 HTTP/1.1\" 200 7543 0.002914\n"
     ]
    }
   ],
   "source": [
    "app = Flask(__name__)\n",
    "app.config['SECRET'] = ''\n",
    "app.config['TEMPLATES_AUTO_RELOAD'] = True\n",
    "app.config['MQTT_BROKER_URL'] = broker_url\n",
    "app.config['MQTT_BROKER_PORT'] = port\n",
    "app.config['MQTT_USERNAME'] = app_id\n",
    "app.config['MQTT_PASSWORD'] = app_key\n",
    "app.config['MQTT_KEEPALIVE'] = 5\n",
    "app.config['MQTT_TLS_ENABLED'] = False\n",
    "\n",
    "# Parameters for SSL enabled\n",
    "# app.config['MQTT_BROKER_PORT'] = 8883\n",
    "# app.config['MQTT_TLS_ENABLED'] = True\n",
    "# app.config['MQTT_TLS_INSECURE'] = True\n",
    "# app.config['MQTT_TLS_CA_CERTS'] = 'ca.crt'\n",
    "\n",
    "# Parameters for SSL enabled\n",
    "# app.config['MQTT_BROKER_PORT'] = 8883\n",
    "# app.config['MQTT_TLS_ENABLED'] = True\n",
    "# app.config['MQTT_TLS_INSECURE'] = True\n",
    "# app.config['MQTT_TLS_CA_CERTS'] = 'ca.crt'\n",
    "\n",
    "mqtt = Mqtt(app)\n",
    "socketio = SocketIO(app)\n",
    "bootstrap = Bootstrap(app)\n",
    "\n",
    "all_data = []\n",
    "\n",
    "mqtt.subscribe(topic)\n",
    "\n",
    "\n",
    "@app.route('/api/mqtt/1')\n",
    "\n",
    "#For now, api v1 returns a huge json with all\n",
    "#+/devices/+/up topic messages\n",
    "\n",
    "def index():\n",
    "    all_data_parsed =[{**d, 'payload':json.loads(d['payload'])} for d in all_data]\n",
    "    return jsonify(all_data_parsed)\n",
    "    #return render_template('index.html')\n",
    "\n",
    "\"\"\"\n",
    "@socketio.on('publish')\n",
    "def handle_publish(json_str):\n",
    "    data = json.loads(json_str)\n",
    "    mqtt.publish(data['topic'], data['message'])\n",
    "\n",
    "\n",
    "@socketio.on('subscribe')\n",
    "def handle_subscribe(json_str):\n",
    "    data = json.loads(json_str)\n",
    "    mqtt.subscribe(data['topic'])\n",
    "\n",
    "\n",
    "@socketio.on('unsubscribe_all')\n",
    "def handle_unsubscribe_all():\n",
    "    mqtt.unsubscribe_all()\n",
    "\"\"\"\n",
    "\n",
    "@mqtt.on_message()\n",
    "def handle_mqtt_message(client, userdata, message):\n",
    "    data = dict(\n",
    "        topic=message.topic,\n",
    "        payload=message.payload.decode()\n",
    "    )\n",
    "    print(data)\n",
    "    all_data.append(data)\n",
    "    socketio.emit('mqtt_message', data=data)\n",
    "\n",
    "\"\"\"\n",
    "@mqtt.on_log()\n",
    "def handle_logging(client, userdata, level, buf):\n",
    "    print(level, buf)\n",
    "\"\"\"\n",
    "\n",
    "if __name__ == '__main__':\n",
    "    socketio.run(app, host='0.0.0.0', port=5000, use_reloader=False, debug=True)"
   ]
  }
 ],
 "metadata": {
  "kernelspec": {
   "display_name": "Python 3",
   "language": "python",
   "name": "python3"
  },
  "language_info": {
   "codemirror_mode": {
    "name": "ipython",
    "version": 3
   },
   "file_extension": ".py",
   "mimetype": "text/x-python",
   "name": "python",
   "nbconvert_exporter": "python",
   "pygments_lexer": "ipython3",
   "version": "3.7.5"
  }
 },
 "nbformat": 4,
 "nbformat_minor": 4
}
