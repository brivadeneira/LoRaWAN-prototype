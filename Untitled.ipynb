{
 "cells": [
  {
   "cell_type": "code",
   "execution_count": null,
   "metadata": {},
   "outputs": [
    {
     "name": "stdout",
     "output_type": "stream",
     "text": [
      "dev in data sim-mbed-2\n",
      "dev in data sim-mbed\n",
      "Running on http://localhost:8001/\n",
      "Debugger PIN: 883-626-344\n",
      " * Serving Flask app \"dash_app\" (lazy loading)\n",
      " * Environment: production\n",
      "\u001b[31m   WARNING: This is a development server. Do not use it in a production deployment.\u001b[0m\n",
      "\u001b[2m   Use a production WSGI server instead.\u001b[0m\n",
      " * Debug mode: on\n",
      "dev in data sim-mbed-2\n",
      "dev in data sim-mbed\n",
      "Running on http://localhost:8001/\n",
      "Debugger PIN: 816-631-900\n",
      "dev in data sim-mbed-2\n",
      "dev in data sim-mbed\n",
      "{'todos': {'times': [datetime.datetime(2019, 11, 25, 13, 5, 56, 517000), datetime.datetime(2019, 11, 25, 13, 5, 59, 238000)], 'temps': [34.5, 29.4]}, 'sim-mbed-2': {'times': [datetime.datetime(2019, 11, 25, 13, 5, 59, 238000)], 'temps': [29.4]}, 'sim-mbed': {'times': [datetime.datetime(2019, 11, 25, 13, 5, 56, 517000)], 'temps': [34.5]}} None <class 'NoneType'>\n",
      "dev in data sim-mbed-2\n",
      "dev in data sim-mbed\n",
      "{'todos': {'times': [datetime.datetime(2019, 11, 25, 13, 5, 56, 517000), datetime.datetime(2019, 11, 25, 13, 5, 59, 238000)], 'temps': [34.5, 29.4]}, 'sim-mbed-2': {'times': [datetime.datetime(2019, 11, 25, 13, 5, 59, 238000)], 'temps': [29.4]}, 'sim-mbed': {'times': [datetime.datetime(2019, 11, 25, 13, 5, 56, 517000)], 'temps': [34.5]}} None <class 'NoneType'>\n",
      "dev in data sim-mbed-2\n",
      "dev in data sim-mbed\n",
      "{'todos': {'times': [datetime.datetime(2019, 11, 25, 13, 5, 56, 517000), datetime.datetime(2019, 11, 25, 13, 5, 59, 238000)], 'temps': [34.5, 29.4]}, 'sim-mbed-2': {'times': [datetime.datetime(2019, 11, 25, 13, 5, 59, 238000)], 'temps': [29.4]}, 'sim-mbed': {'times': [datetime.datetime(2019, 11, 25, 13, 5, 56, 517000)], 'temps': [34.5]}} todos <class 'str'>\n",
      "dev in data sim-mbed-2\n",
      "dev in data sim-mbed\n",
      "{'todos': {'times': [datetime.datetime(2019, 11, 25, 13, 5, 56, 517000), datetime.datetime(2019, 11, 25, 13, 5, 59, 238000)], 'temps': [34.5, 29.4]}, 'sim-mbed-2': {'times': [datetime.datetime(2019, 11, 25, 13, 5, 59, 238000)], 'temps': [29.4]}, 'sim-mbed': {'times': [datetime.datetime(2019, 11, 25, 13, 5, 56, 517000)], 'temps': [34.5]}} sim-mbed-2 <class 'str'>\n",
      "dev in data sim-mbed-2\n",
      "dev in data sim-mbed\n",
      "{'todos': {'times': [datetime.datetime(2019, 11, 25, 13, 5, 56, 517000), datetime.datetime(2019, 11, 25, 13, 5, 59, 238000)], 'temps': [34.5, 29.4]}, 'sim-mbed-2': {'times': [datetime.datetime(2019, 11, 25, 13, 5, 59, 238000)], 'temps': [29.4]}, 'sim-mbed': {'times': [datetime.datetime(2019, 11, 25, 13, 5, 56, 517000)], 'temps': [34.5]}} sim-mbed <class 'str'>\n",
      "dev in data sim-mbed-2\n",
      "dev in data sim-mbed\n",
      "{'todos': {'times': [datetime.datetime(2019, 11, 25, 13, 5, 56, 517000), datetime.datetime(2019, 11, 25, 13, 5, 59, 238000), datetime.datetime(2019, 11, 25, 13, 10, 46, 664000), datetime.datetime(2019, 11, 25, 13, 10, 49, 985000), datetime.datetime(2019, 11, 25, 13, 10, 56, 797000), datetime.datetime(2019, 11, 25, 13, 10, 57, 296000), datetime.datetime(2019, 11, 25, 13, 11, 3, 975000)], 'temps': [34.5, 29.4, 29.4, 28.4, 22.2, 35.5, 31.9]}, 'sim-mbed-2': {'times': [datetime.datetime(2019, 11, 25, 13, 5, 59, 238000), datetime.datetime(2019, 11, 25, 13, 10, 46, 664000), datetime.datetime(2019, 11, 25, 13, 10, 56, 797000), datetime.datetime(2019, 11, 25, 13, 11, 3, 975000)], 'temps': [29.4, 29.4, 22.2, 31.9]}, 'sim-mbed': {'times': [datetime.datetime(2019, 11, 25, 13, 5, 56, 517000), datetime.datetime(2019, 11, 25, 13, 10, 49, 985000), datetime.datetime(2019, 11, 25, 13, 10, 57, 296000)], 'temps': [34.5, 28.4, 35.5]}} sim-mbed-2 <class 'str'>\n",
      "dev in data sim-mbed-2\n",
      "dev in data sim-mbed\n",
      "{'todos': {'times': [datetime.datetime(2019, 11, 25, 13, 5, 56, 517000), datetime.datetime(2019, 11, 25, 13, 5, 59, 238000), datetime.datetime(2019, 11, 25, 13, 10, 46, 664000), datetime.datetime(2019, 11, 25, 13, 10, 49, 985000), datetime.datetime(2019, 11, 25, 13, 10, 56, 797000), datetime.datetime(2019, 11, 25, 13, 10, 57, 296000), datetime.datetime(2019, 11, 25, 13, 11, 3, 975000)], 'temps': [34.5, 29.4, 29.4, 28.4, 22.2, 35.5, 31.9]}, 'sim-mbed-2': {'times': [datetime.datetime(2019, 11, 25, 13, 5, 59, 238000), datetime.datetime(2019, 11, 25, 13, 10, 46, 664000), datetime.datetime(2019, 11, 25, 13, 10, 56, 797000), datetime.datetime(2019, 11, 25, 13, 11, 3, 975000)], 'temps': [29.4, 29.4, 22.2, 31.9]}, 'sim-mbed': {'times': [datetime.datetime(2019, 11, 25, 13, 5, 56, 517000), datetime.datetime(2019, 11, 25, 13, 10, 49, 985000), datetime.datetime(2019, 11, 25, 13, 10, 57, 296000)], 'temps': [34.5, 28.4, 35.5]}} todos <class 'str'>\n",
      "dev in data sim-mbed-2\n",
      "dev in data sim-mbed\n",
      "{'todos': {'times': [datetime.datetime(2019, 11, 25, 13, 5, 56, 517000), datetime.datetime(2019, 11, 25, 13, 5, 59, 238000), datetime.datetime(2019, 11, 25, 13, 10, 46, 664000), datetime.datetime(2019, 11, 25, 13, 10, 49, 985000), datetime.datetime(2019, 11, 25, 13, 10, 56, 797000), datetime.datetime(2019, 11, 25, 13, 10, 57, 296000), datetime.datetime(2019, 11, 25, 13, 11, 3, 975000)], 'temps': [34.5, 29.4, 29.4, 28.4, 22.2, 35.5, 31.9]}, 'sim-mbed-2': {'times': [datetime.datetime(2019, 11, 25, 13, 5, 59, 238000), datetime.datetime(2019, 11, 25, 13, 10, 46, 664000), datetime.datetime(2019, 11, 25, 13, 10, 56, 797000), datetime.datetime(2019, 11, 25, 13, 11, 3, 975000)], 'temps': [29.4, 29.4, 22.2, 31.9]}, 'sim-mbed': {'times': [datetime.datetime(2019, 11, 25, 13, 5, 56, 517000), datetime.datetime(2019, 11, 25, 13, 10, 49, 985000), datetime.datetime(2019, 11, 25, 13, 10, 57, 296000)], 'temps': [34.5, 28.4, 35.5]}} sim-mbed-2 <class 'str'>\n",
      "dev in data sim-mbed-2\n",
      "dev in data sim-mbed\n",
      "{'todos': {'times': [datetime.datetime(2019, 11, 25, 13, 5, 56, 517000), datetime.datetime(2019, 11, 25, 13, 5, 59, 238000), datetime.datetime(2019, 11, 25, 13, 10, 46, 664000), datetime.datetime(2019, 11, 25, 13, 10, 49, 985000), datetime.datetime(2019, 11, 25, 13, 10, 56, 797000), datetime.datetime(2019, 11, 25, 13, 10, 57, 296000), datetime.datetime(2019, 11, 25, 13, 11, 3, 975000), datetime.datetime(2019, 11, 25, 13, 11, 56, 411000), datetime.datetime(2019, 11, 25, 13, 11, 58, 435000)], 'temps': [34.5, 29.4, 29.4, 28.4, 22.2, 35.5, 31.9, 31.9, 35.5]}, 'sim-mbed-2': {'times': [datetime.datetime(2019, 11, 25, 13, 5, 59, 238000), datetime.datetime(2019, 11, 25, 13, 10, 46, 664000), datetime.datetime(2019, 11, 25, 13, 10, 56, 797000), datetime.datetime(2019, 11, 25, 13, 11, 3, 975000), datetime.datetime(2019, 11, 25, 13, 11, 56, 411000)], 'temps': [29.4, 29.4, 22.2, 31.9, 31.9]}, 'sim-mbed': {'times': [datetime.datetime(2019, 11, 25, 13, 5, 56, 517000), datetime.datetime(2019, 11, 25, 13, 10, 49, 985000), datetime.datetime(2019, 11, 25, 13, 10, 57, 296000), datetime.datetime(2019, 11, 25, 13, 11, 58, 435000)], 'temps': [34.5, 28.4, 35.5, 35.5]}} sim-mbed <class 'str'>\n",
      "dev in data sim-mbed-2\n",
      "dev in data sim-mbed\n",
      "{'todos': {'times': [datetime.datetime(2019, 11, 25, 13, 5, 56, 517000), datetime.datetime(2019, 11, 25, 13, 5, 59, 238000), datetime.datetime(2019, 11, 25, 13, 10, 46, 664000), datetime.datetime(2019, 11, 25, 13, 10, 49, 985000), datetime.datetime(2019, 11, 25, 13, 10, 56, 797000), datetime.datetime(2019, 11, 25, 13, 10, 57, 296000), datetime.datetime(2019, 11, 25, 13, 11, 3, 975000), datetime.datetime(2019, 11, 25, 13, 11, 56, 411000), datetime.datetime(2019, 11, 25, 13, 11, 58, 435000)], 'temps': [34.5, 29.4, 29.4, 28.4, 22.2, 35.5, 31.9, 31.9, 35.5]}, 'sim-mbed-2': {'times': [datetime.datetime(2019, 11, 25, 13, 5, 59, 238000), datetime.datetime(2019, 11, 25, 13, 10, 46, 664000), datetime.datetime(2019, 11, 25, 13, 10, 56, 797000), datetime.datetime(2019, 11, 25, 13, 11, 3, 975000), datetime.datetime(2019, 11, 25, 13, 11, 56, 411000)], 'temps': [29.4, 29.4, 22.2, 31.9, 31.9]}, 'sim-mbed': {'times': [datetime.datetime(2019, 11, 25, 13, 5, 56, 517000), datetime.datetime(2019, 11, 25, 13, 10, 49, 985000), datetime.datetime(2019, 11, 25, 13, 10, 57, 296000), datetime.datetime(2019, 11, 25, 13, 11, 58, 435000)], 'temps': [34.5, 28.4, 35.5, 35.5]}} todos <class 'str'>\n"
     ]
    }
   ],
   "source": [
    "!python dash_app.py"
   ]
  },
  {
   "cell_type": "code",
   "execution_count": null,
   "metadata": {},
   "outputs": [],
   "source": []
  }
 ],
 "metadata": {
  "kernelspec": {
   "display_name": "Python 3",
   "language": "python",
   "name": "python3"
  },
  "language_info": {
   "codemirror_mode": {
    "name": "ipython",
    "version": 3
   },
   "file_extension": ".py",
   "mimetype": "text/x-python",
   "name": "python",
   "nbconvert_exporter": "python",
   "pygments_lexer": "ipython3",
   "version": "3.7.5"
  }
 },
 "nbformat": 4,
 "nbformat_minor": 4
}
