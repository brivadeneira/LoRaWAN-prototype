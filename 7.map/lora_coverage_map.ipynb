{
 "cells": [
  {
   "cell_type": "code",
   "execution_count": 490,
   "metadata": {},
   "outputs": [],
   "source": [
    "import base64\n",
    "import datetime\n",
    "import requests\n",
    "import json\n",
    "import gpxpy\n",
    "\n",
    "import gpxpy.gpx\n",
    "import folium"
   ]
  },
  {
   "cell_type": "code",
   "execution_count": 491,
   "metadata": {},
   "outputs": [],
   "source": [
    "gpx_file = open('lora.gpx', 'r')\n",
    "gpx = gpxpy.parse(gpx_file)"
   ]
  },
  {
   "cell_type": "code",
   "execution_count": 492,
   "metadata": {},
   "outputs": [],
   "source": [
    "lat_gw, lon_gw = -33.11341233, -64.32847861"
   ]
  },
  {
   "cell_type": "code",
   "execution_count": 505,
   "metadata": {},
   "outputs": [],
   "source": [
    "#url_data = 'http://0.0.0.0:5000/api/mqtt/1'\n",
    "#data = requests.get(url_data).json()\n",
    "with open('mqtt_payloads.json') as json_file:\n",
    "    data = json.load(json_file)"
   ]
  },
  {
   "cell_type": "code",
   "execution_count": 494,
   "metadata": {},
   "outputs": [],
   "source": [
    "coord = []\n",
    "deltas = []\n",
    "for waypoint in gpx.waypoints:\n",
    "    if waypoint.name == 'Parada de autobús':\n",
    "        coord.append((waypoint.latitude, waypoint.longitude))\n",
    "        delta = abs(lat_gw-waypoint.latitude + lon_gw-waypoint.longitude)\n",
    "        deltas.append(delta)\n",
    "offset_delta = deltas.index(min(deltas))"
   ]
  },
  {
   "cell_type": "code",
   "execution_count": 495,
   "metadata": {},
   "outputs": [],
   "source": [
    "rssi_values = []\n",
    "for entry in data:\n",
    "        rssi = entry['payload']['metadata']['gateways'][0]['rssi']\n",
    "        rssi_values.append(rssi)\n",
    "offset_rssi = rssi_values.index(max(rssi_values))"
   ]
  },
  {
   "cell_type": "code",
   "execution_count": 496,
   "metadata": {},
   "outputs": [],
   "source": [
    "coord_map = coord[offset_delta::] + coord[0:offset_delta]\n",
    "rssi_map = rssi_values[offset_rssi::] + rssi_values[0:offset_rssi]"
   ]
  },
  {
   "cell_type": "code",
   "execution_count": 497,
   "metadata": {},
   "outputs": [],
   "source": [
    "map_tuples = []\n",
    "for i, rssi in enumerate(rssi_values):\n",
    "    try:\n",
    "        lat, lon = coord_map[i]\n",
    "        map_tuples.append((lat, lon, rssi))\n",
    "    except:\n",
    "        pass"
   ]
  },
  {
   "cell_type": "code",
   "execution_count": 498,
   "metadata": {},
   "outputs": [
    {
     "data": {
      "text/plain": [
       "(-122, -66)"
      ]
     },
     "execution_count": 498,
     "metadata": {},
     "output_type": "execute_result"
    }
   ],
   "source": [
    "min_rssi = min(rssi_values)\n",
    "max_rssi = max(rssi_values)\n",
    "min_rssi, max_rssi"
   ]
  },
  {
   "cell_type": "code",
   "execution_count": 499,
   "metadata": {},
   "outputs": [],
   "source": [
    "def color(rssi):\n",
    "    min_rssi = min(rssi_values)\n",
    "    max_rssi = max(rssi_values)\n",
    "    chunks_len = len(rssi_values) // 4\n",
    "    if rssi in range(min_rssi, rssi_values[chunks_len]): \n",
    "        col = 'red'\n",
    "    elif rssi in range(rssi_values[chunks_len], rssi_values[2*chunks_len]): \n",
    "        col = 'orange'\n",
    "    elif rssi in range(rssi_values[2*chunks_len], max_rssi):\n",
    "        col = 'lightgreen'\n",
    "    else: \n",
    "        col='green'\n",
    "    return col "
   ]
  },
  {
   "cell_type": "code",
   "execution_count": 509,
   "metadata": {},
   "outputs": [],
   "source": [
    "my_map = folium.Map(location=[map_tuples[0][0], \n",
    "                              map_tuples[0][1]], \n",
    "                    zoom_start=14)\n",
    "\n",
    "for tup in map_tuples:\n",
    "    lat, lon = tup[0], tup[1]\n",
    "    rssi = tup[2]\n",
    "    # Marker() takes location coordinates  \n",
    "    # as a list as an argument \n",
    "    folium.Marker(location=[lat,lon], \n",
    "                  popup=rssi, \n",
    "                  icon=folium.Icon(color=color(rssi))).add_to(my_map)\n",
    "    folium.Marker(location=[lat_gw, lon_gw],\n",
    "                 popup='Gateway',\n",
    "                 icon=folium.Icon(color='black')).add_to(my_map)\n",
    "my_map.save(\"./lora_coverage_map.html\")"
   ]
  }
 ],
 "metadata": {
  "kernelspec": {
   "display_name": "Python 3",
   "language": "python",
   "name": "python3"
  },
  "language_info": {
   "codemirror_mode": {
    "name": "ipython",
    "version": 3
   },
   "file_extension": ".py",
   "mimetype": "text/x-python",
   "name": "python",
   "nbconvert_exporter": "python",
   "pygments_lexer": "ipython3",
   "version": "3.7.5"
  }
 },
 "nbformat": 4,
 "nbformat_minor": 4
}
