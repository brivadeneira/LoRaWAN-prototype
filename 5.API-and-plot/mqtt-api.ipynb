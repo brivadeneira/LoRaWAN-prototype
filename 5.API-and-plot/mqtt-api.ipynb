{
 "cells": [
  {
   "cell_type": "code",
   "execution_count": 1,
   "metadata": {},
   "outputs": [],
   "source": [
    "import eventlet\n",
    "import json\n",
    "from flask import Flask, jsonify, render_template\n",
    "from flask_mqtt import Mqtt\n",
    "from flask_socketio import SocketIO\n",
    "from flask_bootstrap import Bootstrap"
   ]
  },
  {
   "cell_type": "code",
   "execution_count": 2,
   "metadata": {},
   "outputs": [],
   "source": [
    "broker_url = 'eu.thethings.network'\n",
    "port = 1883\n",
    "app_id = 'fonexa'\n",
    "app_key = 'ttn-account-v2.tni1mQx30F5yLzQaL4okkivKPSZT66v9XPKEjDrdG2o'\n",
    "#app_id = 'simulacion-mqtt-api'\n",
    "#app_key = 'ttn-account-v2.ruY7qlbxfqd9SVIOyDY2uRk4eou4sFcPpcx2A1__KXo'\n",
    "topic = '+/devices/+/up'"
   ]
  },
  {
   "cell_type": "code",
   "execution_count": null,
   "metadata": {},
   "outputs": [
    {
     "name": "stderr",
     "output_type": "stream",
     "text": [
      "[2019-12-02 09:28:10,540] DEBUG in __init__: Connected client '' to broker eu.thethings.network:1883\n",
      "[2019-12-02 09:28:10,566] DEBUG in __init__: Subscribed to topic: +/devices/+/up, qos: 0\n",
      "(8488) wsgi starting up on http://0.0.0.0:5000\n"
     ]
    }
   ],
   "source": [
    "app = Flask(__name__)\n",
    "app.config['SECRET'] = ''\n",
    "app.config['TEMPLATES_AUTO_RELOAD'] = True\n",
    "app.config['MQTT_BROKER_URL'] = broker_url\n",
    "app.config['MQTT_BROKER_PORT'] = port\n",
    "app.config['MQTT_USERNAME'] = app_id\n",
    "app.config['MQTT_PASSWORD'] = app_key\n",
    "app.config['MQTT_KEEPALIVE'] = 5\n",
    "app.config['MQTT_TLS_ENABLED'] = False\n",
    "\n",
    "# Parameters for SSL enabled\n",
    "# app.config['MQTT_BROKER_PORT'] = 8883\n",
    "# app.config['MQTT_TLS_ENABLED'] = True\n",
    "# app.config['MQTT_TLS_INSECURE'] = True\n",
    "# app.config['MQTT_TLS_CA_CERTS'] = 'ca.crt'\n",
    "\n",
    "# Parameters for SSL enabled\n",
    "# app.config['MQTT_BROKER_PORT'] = 8883\n",
    "# app.config['MQTT_TLS_ENABLED'] = True\n",
    "# app.config['MQTT_TLS_INSECURE'] = True\n",
    "# app.config['MQTT_TLS_CA_CERTS'] = 'ca.crt'\n",
    "\n",
    "mqtt = Mqtt(app)\n",
    "socketio = SocketIO(app)\n",
    "bootstrap = Bootstrap(app)\n",
    "\n",
    "all_data = []\n",
    "\n",
    "mqtt.subscribe(topic)\n",
    "\n",
    "\n",
    "@app.route('/api/mqtt/1')\n",
    "\n",
    "#For now, api v1 returns a huge json with all\n",
    "#+/devices/+/up topic messages\n",
    "\n",
    "def index():\n",
    "    all_data_parsed =[{**d, 'payload':json.loads(d['payload'])} for d in all_data]\n",
    "    print(all_data_parsed)\n",
    "    return jsonify(all_data_parsed)\n",
    "    #return render_template('index.html')\n",
    "\n",
    "\"\"\"\n",
    "@socketio.on('publish')\n",
    "def handle_publish(json_str):\n",
    "    data = json.loads(json_str)\n",
    "    mqtt.publish(data['topic'], data['message'])\n",
    "\n",
    "\n",
    "@socketio.on('subscribe')\n",
    "def handle_subscribe(json_str):\n",
    "    data = json.loads(json_str)\n",
    "    mqtt.subscribe(data['topic'])\n",
    "\n",
    "\n",
    "@socketio.on('unsubscribe_all')\n",
    "def handle_unsubscribe_all():\n",
    "    mqtt.unsubscribe_all()\n",
    "\"\"\"\n",
    "\n",
    "@mqtt.on_message()\n",
    "def handle_mqtt_message(client, userdata, message):\n",
    "    data = dict(\n",
    "        topic=message.topic,\n",
    "        payload=message.payload.decode()\n",
    "    )\n",
    "    all_data.append(data)\n",
    "    socketio.emit('mqtt_message', data=data)\n",
    "\n",
    "\"\"\"\n",
    "@mqtt.on_log()\n",
    "def handle_logging(client, userdata, level, buf):\n",
    "    print(level, buf)\n",
    "\"\"\"\n",
    "\n",
    "if __name__ == '__main__':\n",
    "    socketio.run(app, host='0.0.0.0', port=5000, use_reloader=False, debug=True)"
   ]
  },
  {
   "cell_type": "code",
   "execution_count": null,
   "metadata": {},
   "outputs": [],
   "source": []
  }
 ],
 "metadata": {
  "kernelspec": {
   "display_name": "Python 3",
   "language": "python",
   "name": "python3"
  },
  "language_info": {
   "codemirror_mode": {
    "name": "ipython",
    "version": 3
   },
   "file_extension": ".py",
   "mimetype": "text/x-python",
   "name": "python",
   "nbconvert_exporter": "python",
   "pygments_lexer": "ipython3",
   "version": "3.7.3"
  }
 },
 "nbformat": 4,
 "nbformat_minor": 4
}
