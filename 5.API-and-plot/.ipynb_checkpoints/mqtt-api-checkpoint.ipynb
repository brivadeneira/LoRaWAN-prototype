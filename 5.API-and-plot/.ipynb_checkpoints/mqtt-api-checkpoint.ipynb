{
 "cells": [
  {
   "cell_type": "code",
   "execution_count": 1,
   "metadata": {},
   "outputs": [],
   "source": [
    "import eventlet\n",
    "import json\n",
    "from flask import Flask, jsonify, render_template\n",
    "from flask_mqtt import Mqtt\n",
    "from flask_socketio import SocketIO\n",
    "from flask_bootstrap import Bootstrap"
   ]
  },
  {
   "cell_type": "code",
   "execution_count": 2,
   "metadata": {},
   "outputs": [],
   "source": [
    "broker_url = 'eu.thethings.network'\n",
    "port = 1883\n",
    "app_id = 'fonexa'\n",
    "app_key = 'ttn-account-v2.MNg0XZlghGLZmAUh2eOSDECfoZsyFyG2NjX5V5hhWy8'\n",
    "#app_id = 'simulacion-mqtt-api'\n",
    "#app_key = 'ttn-account-v2.ruY7qlbxfqd9SVIOyDY2uRk4eou4sFcPpcx2A1__KXo'\n",
    "topic = '+/devices/+/up'"
   ]
  },
  {
   "cell_type": "code",
   "execution_count": null,
   "metadata": {},
   "outputs": [
    {
     "name": "stderr",
     "output_type": "stream",
     "text": [
      "[2019-11-26 18:58:38,098] DEBUG in __init__: Connected client '' to broker eu.thethings.network:1883\n",
      "[2019-11-26 18:58:38,125] DEBUG in __init__: Subscribed to topic: +/devices/+/up, qos: 0\n",
      "(7910) wsgi starting up on http://0.0.0.0:5000\n",
      "(7910) accepted ('127.0.0.1', 42048)\n",
      "127.0.0.1 - - [26/Nov/2019 18:58:41] \"GET /api/mqtt/1 HTTP/1.1\" 200 134 0.001409\n",
      "(7910) accepted ('127.0.0.1', 42060)\n",
      "127.0.0.1 - - [26/Nov/2019 18:58:44] \"GET /api/mqtt/1 HTTP/1.1\" 200 134 0.000843\n",
      "(7910) accepted ('127.0.0.1', 42080)\n",
      "127.0.0.1 - - [26/Nov/2019 18:58:51] \"GET /api/mqtt/1 HTTP/1.1\" 200 134 0.001215\n",
      "(7910) accepted ('127.0.0.1', 42092)\n",
      "127.0.0.1 - - [26/Nov/2019 18:58:54] \"GET /api/mqtt/1 HTTP/1.1\" 200 134 0.002624\n",
      "(7910) accepted ('127.0.0.1', 42100)\n",
      "127.0.0.1 - - [26/Nov/2019 18:58:57] \"GET /api/mqtt/1 HTTP/1.1\" 200 134 0.000750\n",
      "(7910) accepted ('127.0.0.1', 42110)\n",
      "127.0.0.1 - - [26/Nov/2019 18:59:01] \"GET /api/mqtt/1 HTTP/1.1\" 200 134 0.001091\n"
     ]
    },
    {
     "name": "stdout",
     "output_type": "stream",
     "text": [
      "{'topic': 'fonexa/devices/esp32-oled-nodo/up', 'payload': '{\"app_id\":\"fonexa\",\"dev_id\":\"esp32-oled-nodo\",\"hardware_serial\":\"0090061A03C4590F\",\"port\":1,\"counter\":0,\"is_retry\":true,\"payload_raw\":\"AWcBfAJomA==\",\"metadata\":{\"time\":\"2019-11-26T21:59:02.382749019Z\",\"frequency\":902.3,\"modulation\":\"LORA\",\"data_rate\":\"SF7BW125\",\"airtime\":56576000,\"coding_rate\":\"4/5\",\"gateways\":[{\"gtw_id\":\"eui-240ac4ffff308f78\",\"timestamp\":1543177108,\"time\":\"\",\"channel\":0,\"rssi\":-56,\"snr\":10,\"rf_chain\":0,\"latitude\":-33.11341,\"longitude\":-64.32847,\"altitude\":440}]}}'}\n"
     ]
    },
    {
     "name": "stderr",
     "output_type": "stream",
     "text": [
      "(7910) accepted ('127.0.0.1', 42122)\n",
      "127.0.0.1 - - [26/Nov/2019 18:59:04] \"GET /api/mqtt/1 HTTP/1.1\" 200 134 0.000794\n",
      "127.0.0.1 - - [26/Nov/2019 18:59:09] \"GET /api/mqtt/1 HTTP/1.1\" 200 134 0.000967\n",
      "127.0.0.1 - - [26/Nov/2019 18:59:10] \"GET /api/mqtt/1 HTTP/1.1\" 200 134 0.000827\n",
      "127.0.0.1 - - [26/Nov/2019 18:59:10] \"GET /api/mqtt/1 HTTP/1.1\" 200 134 0.001064\n",
      "127.0.0.1 - - [26/Nov/2019 18:59:10] \"GET /api/mqtt/1 HTTP/1.1\" 200 134 0.000840\n",
      "(7910) accepted ('127.0.0.1', 42140)\n",
      "127.0.0.1 - - [26/Nov/2019 18:59:11] \"GET /api/mqtt/1 HTTP/1.1\" 200 134 0.000908\n",
      "(7910) accepted ('127.0.0.1', 42152)\n",
      "127.0.0.1 - - [26/Nov/2019 18:59:14] \"GET /api/mqtt/1 HTTP/1.1\" 200 134 0.002251\n",
      "(7910) accepted ('127.0.0.1', 42172)\n",
      "127.0.0.1 - - [26/Nov/2019 18:59:21] \"GET /api/mqtt/1 HTTP/1.1\" 200 134 0.001012\n",
      "(7910) accepted ('127.0.0.1', 42184)\n",
      "127.0.0.1 - - [26/Nov/2019 18:59:24] \"GET /api/mqtt/1 HTTP/1.1\" 200 134 0.001086\n",
      "(7910) accepted ('127.0.0.1', 42200)\n",
      "127.0.0.1 - - [26/Nov/2019 18:59:31] \"GET /api/mqtt/1 HTTP/1.1\" 200 134 0.001284\n",
      "(7910) accepted ('127.0.0.1', 42212)\n",
      "127.0.0.1 - - [26/Nov/2019 18:59:34] \"GET /api/mqtt/1 HTTP/1.1\" 200 134 0.002013\n",
      "127.0.0.1 - - [26/Nov/2019 18:59:39] \"GET /api/mqtt/1 HTTP/1.1\" 200 134 0.000664\n",
      "(7910) accepted ('127.0.0.1', 42240)\n",
      "127.0.0.1 - - [26/Nov/2019 18:59:42] \"GET /api/mqtt/1 HTTP/1.1\" 200 134 0.001047\n",
      "(7910) accepted ('127.0.0.1', 42248)\n",
      "127.0.0.1 - - [26/Nov/2019 18:59:44] \"GET /api/mqtt/1 HTTP/1.1\" 200 134 0.003489\n",
      "(7910) accepted ('127.0.0.1', 42268)\n",
      "127.0.0.1 - - [26/Nov/2019 18:59:52] \"GET /api/mqtt/1 HTTP/1.1\" 200 134 0.000875\n",
      "(7910) accepted ('127.0.0.1', 42280)\n",
      "127.0.0.1 - - [26/Nov/2019 18:59:54] \"GET /api/mqtt/1 HTTP/1.1\" 200 134 0.002986\n"
     ]
    },
    {
     "name": "stdout",
     "output_type": "stream",
     "text": [
      "{'topic': 'fonexa/devices/arduino-uno-nodo/up', 'payload': '{\"app_id\":\"fonexa\",\"dev_id\":\"arduino-uno-nodo\",\"hardware_serial\":\"00D68AE0EC89A7C3\",\"port\":1,\"counter\":4,\"payload_raw\":\"VGVtcGVyYXR1cmUgOiAyOSwgSHVtaWRpdHkgOiAlODA=\",\"metadata\":{\"time\":\"2019-11-26T21:59:55.330573976Z\",\"frequency\":902.3,\"modulation\":\"LORA\",\"data_rate\":\"SF7BW125\",\"airtime\":92416000,\"coding_rate\":\"4/5\",\"gateways\":[{\"gtw_id\":\"eui-240ac4ffff308f78\",\"timestamp\":1596033025,\"time\":\"\",\"channel\":0,\"rssi\":-40,\"snr\":9,\"rf_chain\":0,\"latitude\":-33.11341,\"longitude\":-64.32847,\"altitude\":440}]}}'}\n"
     ]
    },
    {
     "name": "stderr",
     "output_type": "stream",
     "text": [
      "(7910) accepted ('127.0.0.1', 42296)\n",
      "127.0.0.1 - - [26/Nov/2019 19:00:02] \"GET /api/mqtt/1 HTTP/1.1\" 200 134 0.000997\n"
     ]
    }
   ],
   "source": [
    "app = Flask(__name__)\n",
    "app.config['SECRET'] = ''\n",
    "app.config['TEMPLATES_AUTO_RELOAD'] = True\n",
    "app.config['MQTT_BROKER_URL'] = broker_url\n",
    "app.config['MQTT_BROKER_PORT'] = port\n",
    "app.config['MQTT_USERNAME'] = app_id\n",
    "app.config['MQTT_PASSWORD'] = app_key\n",
    "app.config['MQTT_KEEPALIVE'] = 5\n",
    "app.config['MQTT_TLS_ENABLED'] = False\n",
    "\n",
    "# Parameters for SSL enabled\n",
    "# app.config['MQTT_BROKER_PORT'] = 8883\n",
    "# app.config['MQTT_TLS_ENABLED'] = True\n",
    "# app.config['MQTT_TLS_INSECURE'] = True\n",
    "# app.config['MQTT_TLS_CA_CERTS'] = 'ca.crt'\n",
    "\n",
    "# Parameters for SSL enabled\n",
    "# app.config['MQTT_BROKER_PORT'] = 8883\n",
    "# app.config['MQTT_TLS_ENABLED'] = True\n",
    "# app.config['MQTT_TLS_INSECURE'] = True\n",
    "# app.config['MQTT_TLS_CA_CERTS'] = 'ca.crt'\n",
    "\n",
    "mqtt = Mqtt(app)\n",
    "socketio = SocketIO(app)\n",
    "bootstrap = Bootstrap(app)\n",
    "\n",
    "all_data = []\n",
    "\n",
    "mqtt.subscribe(topic)\n",
    "\n",
    "\n",
    "@app.route('/api/mqtt/1')\n",
    "\n",
    "#For now, api v1 returns a huge json with all\n",
    "#+/devices/+/up topic messages\n",
    "\n",
    "def index():\n",
    "    all_data_parsed =[{**d, 'payload':json.loads(d['payload'])} for d in all_data]\n",
    "    return jsonify(all_data_parsed)\n",
    "    #return render_template('index.html')\n",
    "\n",
    "\"\"\"\n",
    "@socketio.on('publish')\n",
    "def handle_publish(json_str):\n",
    "    data = json.loads(json_str)\n",
    "    mqtt.publish(data['topic'], data['message'])\n",
    "\n",
    "\n",
    "@socketio.on('subscribe')\n",
    "def handle_subscribe(json_str):\n",
    "    data = json.loads(json_str)\n",
    "    mqtt.subscribe(data['topic'])\n",
    "\n",
    "\n",
    "@socketio.on('unsubscribe_all')\n",
    "def handle_unsubscribe_all():\n",
    "    mqtt.unsubscribe_all()\n",
    "\"\"\"\n",
    "\n",
    "@mqtt.on_message()\n",
    "def handle_mqtt_message(client, userdata, message):\n",
    "    data = dict(\n",
    "        topic=message.topic,\n",
    "        payload=message.payload.decode()\n",
    "    )\n",
    "    all_data.append(data)\n",
    "    socketio.emit('mqtt_message', data=data)\n",
    "\n",
    "\"\"\"\n",
    "@mqtt.on_log()\n",
    "def handle_logging(client, userdata, level, buf):\n",
    "    print(level, buf)\n",
    "\"\"\"\n",
    "\n",
    "if __name__ == '__main__':\n",
    "    socketio.run(app, host='0.0.0.0', port=5000, use_reloader=False, debug=True)"
   ]
  }
 ],
 "metadata": {
  "kernelspec": {
   "display_name": "Python 3",
   "language": "python",
   "name": "python3"
  },
  "language_info": {
   "codemirror_mode": {
    "name": "ipython",
    "version": 3
   },
   "file_extension": ".py",
   "mimetype": "text/x-python",
   "name": "python",
   "nbconvert_exporter": "python",
   "pygments_lexer": "ipython3",
   "version": "3.7.5"
  }
 },
 "nbformat": 4,
 "nbformat_minor": 4
}
